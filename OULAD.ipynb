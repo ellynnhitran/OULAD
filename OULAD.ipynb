{
  "nbformat": 4,
  "nbformat_minor": 0,
  "metadata": {
    "colab": {
      "name": "OULAD.ipynb",
      "provenance": [],
      "collapsed_sections": []
    },
    "kernelspec": {
      "name": "python3",
      "display_name": "Python 3"
    },
    "language_info": {
      "name": "python"
    }
  },
  "cells": [
    {
      "cell_type": "markdown",
      "metadata": {
        "id": "GkauKpQ4Tk3f"
      },
      "source": [
        "**Read Data**"
      ]
    },
    {
      "cell_type": "code",
      "metadata": {
        "id": "Xh4GvEqzTqlF"
      },
      "source": [
        "import numpy as np\n",
        "import pandas as pd\n",
        "import seaborn as sns\n",
        "import matplotlib.pyplot as plt\n",
        "from time import time\n",
        "from sklearn.linear_model import LogisticRegression\n",
        "from sklearn.neighbors import KNeighborsClassifier\n",
        "from sklearn.svm import SVC\n",
        "from sklearn.model_selection import train_test_split,GridSearchCV\n",
        "from sklearn.metrics import confusion_matrix, roc_curve, accuracy_score, f1_score, roc_auc_score, classification_report\n",
        "from astropy.table import Table\n",
        "from sklearn.metrics import roc_auc_score\n",
        "\n",
        "df = pd.read_csv('studentInfo.csv')\n",
        "dfv = pd.read_csv('studentInfo.csv')"
      ],
      "execution_count": null,
      "outputs": []
    },
    {
      "cell_type": "code",
      "metadata": {
        "id": "3MfCEGa2UvSV",
        "colab": {
          "base_uri": "https://localhost:8080/",
          "height": 677
        },
        "outputId": "08bad2e7-7f5e-481d-d135-83af941625d0"
      },
      "source": [
        "#Display the dataset\n",
        "df"
      ],
      "execution_count": null,
      "outputs": [
        {
          "output_type": "execute_result",
          "data": {
            "text/html": [
              "<div>\n",
              "<style scoped>\n",
              "    .dataframe tbody tr th:only-of-type {\n",
              "        vertical-align: middle;\n",
              "    }\n",
              "\n",
              "    .dataframe tbody tr th {\n",
              "        vertical-align: top;\n",
              "    }\n",
              "\n",
              "    .dataframe thead th {\n",
              "        text-align: right;\n",
              "    }\n",
              "</style>\n",
              "<table border=\"1\" class=\"dataframe\">\n",
              "  <thead>\n",
              "    <tr style=\"text-align: right;\">\n",
              "      <th></th>\n",
              "      <th>code_module</th>\n",
              "      <th>code_presentation</th>\n",
              "      <th>id_student</th>\n",
              "      <th>gender</th>\n",
              "      <th>region</th>\n",
              "      <th>highest_education</th>\n",
              "      <th>imd_band</th>\n",
              "      <th>age_band</th>\n",
              "      <th>num_of_prev_attempts</th>\n",
              "      <th>studied_credits</th>\n",
              "      <th>disability</th>\n",
              "      <th>final_result</th>\n",
              "    </tr>\n",
              "  </thead>\n",
              "  <tbody>\n",
              "    <tr>\n",
              "      <th>0</th>\n",
              "      <td>AAA</td>\n",
              "      <td>2013J</td>\n",
              "      <td>11391</td>\n",
              "      <td>M</td>\n",
              "      <td>East Anglian Region</td>\n",
              "      <td>HE Qualification</td>\n",
              "      <td>90-100%</td>\n",
              "      <td>55&lt;=</td>\n",
              "      <td>0</td>\n",
              "      <td>240</td>\n",
              "      <td>N</td>\n",
              "      <td>Pass</td>\n",
              "    </tr>\n",
              "    <tr>\n",
              "      <th>1</th>\n",
              "      <td>AAA</td>\n",
              "      <td>2013J</td>\n",
              "      <td>28400</td>\n",
              "      <td>F</td>\n",
              "      <td>Scotland</td>\n",
              "      <td>HE Qualification</td>\n",
              "      <td>20-30%</td>\n",
              "      <td>35-55</td>\n",
              "      <td>0</td>\n",
              "      <td>60</td>\n",
              "      <td>N</td>\n",
              "      <td>Pass</td>\n",
              "    </tr>\n",
              "    <tr>\n",
              "      <th>2</th>\n",
              "      <td>AAA</td>\n",
              "      <td>2013J</td>\n",
              "      <td>30268</td>\n",
              "      <td>F</td>\n",
              "      <td>North Western Region</td>\n",
              "      <td>A Level or Equivalent</td>\n",
              "      <td>30-40%</td>\n",
              "      <td>35-55</td>\n",
              "      <td>0</td>\n",
              "      <td>60</td>\n",
              "      <td>Y</td>\n",
              "      <td>Withdrawn</td>\n",
              "    </tr>\n",
              "    <tr>\n",
              "      <th>3</th>\n",
              "      <td>AAA</td>\n",
              "      <td>2013J</td>\n",
              "      <td>31604</td>\n",
              "      <td>F</td>\n",
              "      <td>South East Region</td>\n",
              "      <td>A Level or Equivalent</td>\n",
              "      <td>50-60%</td>\n",
              "      <td>35-55</td>\n",
              "      <td>0</td>\n",
              "      <td>60</td>\n",
              "      <td>N</td>\n",
              "      <td>Pass</td>\n",
              "    </tr>\n",
              "    <tr>\n",
              "      <th>4</th>\n",
              "      <td>AAA</td>\n",
              "      <td>2013J</td>\n",
              "      <td>32885</td>\n",
              "      <td>F</td>\n",
              "      <td>West Midlands Region</td>\n",
              "      <td>Lower Than A Level</td>\n",
              "      <td>50-60%</td>\n",
              "      <td>0-35</td>\n",
              "      <td>0</td>\n",
              "      <td>60</td>\n",
              "      <td>N</td>\n",
              "      <td>Pass</td>\n",
              "    </tr>\n",
              "    <tr>\n",
              "      <th>...</th>\n",
              "      <td>...</td>\n",
              "      <td>...</td>\n",
              "      <td>...</td>\n",
              "      <td>...</td>\n",
              "      <td>...</td>\n",
              "      <td>...</td>\n",
              "      <td>...</td>\n",
              "      <td>...</td>\n",
              "      <td>...</td>\n",
              "      <td>...</td>\n",
              "      <td>...</td>\n",
              "      <td>...</td>\n",
              "    </tr>\n",
              "    <tr>\n",
              "      <th>32588</th>\n",
              "      <td>GGG</td>\n",
              "      <td>2014J</td>\n",
              "      <td>2640965</td>\n",
              "      <td>F</td>\n",
              "      <td>Wales</td>\n",
              "      <td>Lower Than A Level</td>\n",
              "      <td>10-20</td>\n",
              "      <td>0-35</td>\n",
              "      <td>0</td>\n",
              "      <td>30</td>\n",
              "      <td>N</td>\n",
              "      <td>Fail</td>\n",
              "    </tr>\n",
              "    <tr>\n",
              "      <th>32589</th>\n",
              "      <td>GGG</td>\n",
              "      <td>2014J</td>\n",
              "      <td>2645731</td>\n",
              "      <td>F</td>\n",
              "      <td>East Anglian Region</td>\n",
              "      <td>Lower Than A Level</td>\n",
              "      <td>40-50%</td>\n",
              "      <td>35-55</td>\n",
              "      <td>0</td>\n",
              "      <td>30</td>\n",
              "      <td>N</td>\n",
              "      <td>Distinction</td>\n",
              "    </tr>\n",
              "    <tr>\n",
              "      <th>32590</th>\n",
              "      <td>GGG</td>\n",
              "      <td>2014J</td>\n",
              "      <td>2648187</td>\n",
              "      <td>F</td>\n",
              "      <td>South Region</td>\n",
              "      <td>A Level or Equivalent</td>\n",
              "      <td>20-30%</td>\n",
              "      <td>0-35</td>\n",
              "      <td>0</td>\n",
              "      <td>30</td>\n",
              "      <td>Y</td>\n",
              "      <td>Pass</td>\n",
              "    </tr>\n",
              "    <tr>\n",
              "      <th>32591</th>\n",
              "      <td>GGG</td>\n",
              "      <td>2014J</td>\n",
              "      <td>2679821</td>\n",
              "      <td>F</td>\n",
              "      <td>South East Region</td>\n",
              "      <td>Lower Than A Level</td>\n",
              "      <td>90-100%</td>\n",
              "      <td>35-55</td>\n",
              "      <td>0</td>\n",
              "      <td>30</td>\n",
              "      <td>N</td>\n",
              "      <td>Withdrawn</td>\n",
              "    </tr>\n",
              "    <tr>\n",
              "      <th>32592</th>\n",
              "      <td>GGG</td>\n",
              "      <td>2014J</td>\n",
              "      <td>2684003</td>\n",
              "      <td>F</td>\n",
              "      <td>Yorkshire Region</td>\n",
              "      <td>HE Qualification</td>\n",
              "      <td>50-60%</td>\n",
              "      <td>35-55</td>\n",
              "      <td>0</td>\n",
              "      <td>30</td>\n",
              "      <td>N</td>\n",
              "      <td>Distinction</td>\n",
              "    </tr>\n",
              "  </tbody>\n",
              "</table>\n",
              "<p>32593 rows × 12 columns</p>\n",
              "</div>"
            ],
            "text/plain": [
              "      code_module code_presentation  ...  disability final_result\n",
              "0             AAA             2013J  ...           N         Pass\n",
              "1             AAA             2013J  ...           N         Pass\n",
              "2             AAA             2013J  ...           Y    Withdrawn\n",
              "3             AAA             2013J  ...           N         Pass\n",
              "4             AAA             2013J  ...           N         Pass\n",
              "...           ...               ...  ...         ...          ...\n",
              "32588         GGG             2014J  ...           N         Fail\n",
              "32589         GGG             2014J  ...           N  Distinction\n",
              "32590         GGG             2014J  ...           Y         Pass\n",
              "32591         GGG             2014J  ...           N    Withdrawn\n",
              "32592         GGG             2014J  ...           N  Distinction\n",
              "\n",
              "[32593 rows x 12 columns]"
            ]
          },
          "metadata": {},
          "execution_count": 76
        }
      ]
    },
    {
      "cell_type": "markdown",
      "metadata": {
        "id": "7Hxf31eKVDQP"
      },
      "source": [
        "**Data Processing**"
      ]
    },
    {
      "cell_type": "code",
      "metadata": {
        "id": "gImSRUh-YOAi"
      },
      "source": [
        "# mapping strings to numeric values:\n",
        "def numerical_data():\n",
        "    df['code_module'] = df['code_module'].map({'AAA': 0, 'BBB': 1, 'CCC': 2, 'DDD': 3,'EEE': 4, 'FFF': 5,'GGG': 6   })\n",
        "    df['gender'] = df['gender'].map({'M': 0, 'F': 1})\n",
        "    df['code_presentation'] = df['code_presentation'].map({'2014J': 0, '2013J': 1,'2014B': 2, '2013B': 3 })\n",
        "    df['region'] = df['region'].map({'Scotland': 0, 'East Anglian Region': 1, 'London Region': 2, 'South Region': 3,'North Western Region': 4, 'West Midlands Region': 5,'South West Region': 6,\n",
        "                                    'East Midlands Region': 7, 'South East Region': 8, 'Wales ': 9, 'Yorkshire Region': 10, 'North Region': 11, 'Ireland': 12  })\n",
        "    df['highest_education'] = df['highest_education'].map({'A Level or Equivalent': 0, 'Lower Than A Level': 1, 'HE Qualification': 2, 'No Formal quals': 3, 'Post Graduate Qualification':4})\n",
        "    df['imd_band'] = df['imd_band'].map({'0-10%': 0, '10-20': 1, '20-30%': 2, '30-40%': 3,'40-50%': 4, '50-60%': 5,'60-70%': 6 ,'70-80%': 7, '80-90%': 8,'90-100%': 9  })\n",
        "    df['age_band'] = df['age_band'].map({'0-35': 0, '35-55': 1, '55<=': 2})\n",
        "    df['disability'] = df['disability'].map({'N': 0, 'Y': 1})\n",
        "    df['final_result'] = df['final_result'].map({'Distinction': 3, 'Pass': 2, 'Fail': 1, 'Withdrawn':0})\n",
        "\n",
        "\n",
        "    # reorder dataframe columns :\n",
        "    col = df['final_result']\n",
        "    del df['final_result']\n",
        "    df['final_result'] = col\n",
        "\n",
        "    \n",
        "# feature scaling will allow the algorithm to converge faster, large data will have same scal\n",
        "def feature_scaling(df):\n",
        "    for i in df:\n",
        "        col = df[i]\n",
        "        # let's choose columns that have large values\n",
        "        if(np.max(col)>6):\n",
        "            Max = max(col)\n",
        "            Min = min(col)\n",
        "            mean = np.mean(col)\n",
        "            col  = (col-mean)/(Max)\n",
        "            df[i] = col\n",
        "        elif(np.max(col)<6):\n",
        "            col = (col-np.min(col))\n",
        "            col /= np.max(col)\n",
        "            df[i] = col"
      ],
      "execution_count": null,
      "outputs": []
    },
    {
      "cell_type": "code",
      "metadata": {
        "id": "09dZ-QYncYfp",
        "colab": {
          "base_uri": "https://localhost:8080/",
          "height": 439
        },
        "outputId": "582dd74a-765c-4733-f386-721a74c9477f"
      },
      "source": [
        "# All values in numerical after calling numerical_data() function\n",
        "numerical_data()\n",
        "df"
      ],
      "execution_count": null,
      "outputs": [
        {
          "output_type": "execute_result",
          "data": {
            "text/html": [
              "<div>\n",
              "<style scoped>\n",
              "    .dataframe tbody tr th:only-of-type {\n",
              "        vertical-align: middle;\n",
              "    }\n",
              "\n",
              "    .dataframe tbody tr th {\n",
              "        vertical-align: top;\n",
              "    }\n",
              "\n",
              "    .dataframe thead th {\n",
              "        text-align: right;\n",
              "    }\n",
              "</style>\n",
              "<table border=\"1\" class=\"dataframe\">\n",
              "  <thead>\n",
              "    <tr style=\"text-align: right;\">\n",
              "      <th></th>\n",
              "      <th>code_module</th>\n",
              "      <th>code_presentation</th>\n",
              "      <th>id_student</th>\n",
              "      <th>gender</th>\n",
              "      <th>region</th>\n",
              "      <th>highest_education</th>\n",
              "      <th>imd_band</th>\n",
              "      <th>age_band</th>\n",
              "      <th>num_of_prev_attempts</th>\n",
              "      <th>studied_credits</th>\n",
              "      <th>disability</th>\n",
              "      <th>final_result</th>\n",
              "    </tr>\n",
              "  </thead>\n",
              "  <tbody>\n",
              "    <tr>\n",
              "      <th>0</th>\n",
              "      <td>0</td>\n",
              "      <td>1</td>\n",
              "      <td>11391</td>\n",
              "      <td>0</td>\n",
              "      <td>1.0</td>\n",
              "      <td>2</td>\n",
              "      <td>9.0</td>\n",
              "      <td>2</td>\n",
              "      <td>0</td>\n",
              "      <td>240</td>\n",
              "      <td>0</td>\n",
              "      <td>2</td>\n",
              "    </tr>\n",
              "    <tr>\n",
              "      <th>1</th>\n",
              "      <td>0</td>\n",
              "      <td>1</td>\n",
              "      <td>28400</td>\n",
              "      <td>1</td>\n",
              "      <td>0.0</td>\n",
              "      <td>2</td>\n",
              "      <td>2.0</td>\n",
              "      <td>1</td>\n",
              "      <td>0</td>\n",
              "      <td>60</td>\n",
              "      <td>0</td>\n",
              "      <td>2</td>\n",
              "    </tr>\n",
              "    <tr>\n",
              "      <th>2</th>\n",
              "      <td>0</td>\n",
              "      <td>1</td>\n",
              "      <td>30268</td>\n",
              "      <td>1</td>\n",
              "      <td>4.0</td>\n",
              "      <td>0</td>\n",
              "      <td>3.0</td>\n",
              "      <td>1</td>\n",
              "      <td>0</td>\n",
              "      <td>60</td>\n",
              "      <td>1</td>\n",
              "      <td>0</td>\n",
              "    </tr>\n",
              "    <tr>\n",
              "      <th>3</th>\n",
              "      <td>0</td>\n",
              "      <td>1</td>\n",
              "      <td>31604</td>\n",
              "      <td>1</td>\n",
              "      <td>8.0</td>\n",
              "      <td>0</td>\n",
              "      <td>5.0</td>\n",
              "      <td>1</td>\n",
              "      <td>0</td>\n",
              "      <td>60</td>\n",
              "      <td>0</td>\n",
              "      <td>2</td>\n",
              "    </tr>\n",
              "    <tr>\n",
              "      <th>4</th>\n",
              "      <td>0</td>\n",
              "      <td>1</td>\n",
              "      <td>32885</td>\n",
              "      <td>1</td>\n",
              "      <td>5.0</td>\n",
              "      <td>1</td>\n",
              "      <td>5.0</td>\n",
              "      <td>0</td>\n",
              "      <td>0</td>\n",
              "      <td>60</td>\n",
              "      <td>0</td>\n",
              "      <td>2</td>\n",
              "    </tr>\n",
              "    <tr>\n",
              "      <th>...</th>\n",
              "      <td>...</td>\n",
              "      <td>...</td>\n",
              "      <td>...</td>\n",
              "      <td>...</td>\n",
              "      <td>...</td>\n",
              "      <td>...</td>\n",
              "      <td>...</td>\n",
              "      <td>...</td>\n",
              "      <td>...</td>\n",
              "      <td>...</td>\n",
              "      <td>...</td>\n",
              "      <td>...</td>\n",
              "    </tr>\n",
              "    <tr>\n",
              "      <th>32588</th>\n",
              "      <td>6</td>\n",
              "      <td>0</td>\n",
              "      <td>2640965</td>\n",
              "      <td>1</td>\n",
              "      <td>NaN</td>\n",
              "      <td>1</td>\n",
              "      <td>1.0</td>\n",
              "      <td>0</td>\n",
              "      <td>0</td>\n",
              "      <td>30</td>\n",
              "      <td>0</td>\n",
              "      <td>1</td>\n",
              "    </tr>\n",
              "    <tr>\n",
              "      <th>32589</th>\n",
              "      <td>6</td>\n",
              "      <td>0</td>\n",
              "      <td>2645731</td>\n",
              "      <td>1</td>\n",
              "      <td>1.0</td>\n",
              "      <td>1</td>\n",
              "      <td>4.0</td>\n",
              "      <td>1</td>\n",
              "      <td>0</td>\n",
              "      <td>30</td>\n",
              "      <td>0</td>\n",
              "      <td>3</td>\n",
              "    </tr>\n",
              "    <tr>\n",
              "      <th>32590</th>\n",
              "      <td>6</td>\n",
              "      <td>0</td>\n",
              "      <td>2648187</td>\n",
              "      <td>1</td>\n",
              "      <td>3.0</td>\n",
              "      <td>0</td>\n",
              "      <td>2.0</td>\n",
              "      <td>0</td>\n",
              "      <td>0</td>\n",
              "      <td>30</td>\n",
              "      <td>1</td>\n",
              "      <td>2</td>\n",
              "    </tr>\n",
              "    <tr>\n",
              "      <th>32591</th>\n",
              "      <td>6</td>\n",
              "      <td>0</td>\n",
              "      <td>2679821</td>\n",
              "      <td>1</td>\n",
              "      <td>8.0</td>\n",
              "      <td>1</td>\n",
              "      <td>9.0</td>\n",
              "      <td>1</td>\n",
              "      <td>0</td>\n",
              "      <td>30</td>\n",
              "      <td>0</td>\n",
              "      <td>0</td>\n",
              "    </tr>\n",
              "    <tr>\n",
              "      <th>32592</th>\n",
              "      <td>6</td>\n",
              "      <td>0</td>\n",
              "      <td>2684003</td>\n",
              "      <td>1</td>\n",
              "      <td>10.0</td>\n",
              "      <td>2</td>\n",
              "      <td>5.0</td>\n",
              "      <td>1</td>\n",
              "      <td>0</td>\n",
              "      <td>30</td>\n",
              "      <td>0</td>\n",
              "      <td>3</td>\n",
              "    </tr>\n",
              "  </tbody>\n",
              "</table>\n",
              "<p>32593 rows × 12 columns</p>\n",
              "</div>"
            ],
            "text/plain": [
              "       code_module  code_presentation  ...  disability  final_result\n",
              "0                0                  1  ...           0             2\n",
              "1                0                  1  ...           0             2\n",
              "2                0                  1  ...           1             0\n",
              "3                0                  1  ...           0             2\n",
              "4                0                  1  ...           0             2\n",
              "...            ...                ...  ...         ...           ...\n",
              "32588            6                  0  ...           0             1\n",
              "32589            6                  0  ...           0             3\n",
              "32590            6                  0  ...           1             2\n",
              "32591            6                  0  ...           0             0\n",
              "32592            6                  0  ...           0             3\n",
              "\n",
              "[32593 rows x 12 columns]"
            ]
          },
          "metadata": {},
          "execution_count": 78
        }
      ]
    },
    {
      "cell_type": "code",
      "metadata": {
        "id": "RO2PHKGFdUvD",
        "colab": {
          "base_uri": "https://localhost:8080/"
        },
        "outputId": "b9a66c64-9cb3-418c-c1fe-0ff89d8f1687"
      },
      "source": [
        "# Handle missing data\n",
        "#Show missing data\n",
        "df.isnull().sum().sort_values(ascending=False).head()"
      ],
      "execution_count": null,
      "outputs": [
        {
          "output_type": "execute_result",
          "data": {
            "text/plain": [
              "region             2086\n",
              "imd_band           1111\n",
              "final_result          0\n",
              "disability            0\n",
              "studied_credits       0\n",
              "dtype: int64"
            ]
          },
          "metadata": {},
          "execution_count": 79
        }
      ]
    },
    {
      "cell_type": "code",
      "metadata": {
        "id": "SCBNF8JOe0aH",
        "colab": {
          "base_uri": "https://localhost:8080/"
        },
        "outputId": "5422dee3-df8d-4014-f008-aa10becc23d5"
      },
      "source": [
        "#fill in the missing data with the mean\n",
        "from sklearn.impute import SimpleImputer\n",
        "\n",
        "imp = SimpleImputer(missing_values=np.nan, strategy='mean')\n",
        "imp.fit(df)\n",
        "df = pd.DataFrame(data=imp.transform(df), columns=df.columns)\n",
        "\n",
        "df.isnull().sum().sort_values(ascending=False).head(10)"
      ],
      "execution_count": null,
      "outputs": [
        {
          "output_type": "execute_result",
          "data": {
            "text/plain": [
              "final_result            0\n",
              "disability              0\n",
              "studied_credits         0\n",
              "num_of_prev_attempts    0\n",
              "age_band                0\n",
              "imd_band                0\n",
              "highest_education       0\n",
              "region                  0\n",
              "gender                  0\n",
              "id_student              0\n",
              "dtype: int64"
            ]
          },
          "metadata": {},
          "execution_count": 80
        }
      ]
    },
    {
      "cell_type": "code",
      "metadata": {
        "id": "K0N4teSNfOpQ",
        "colab": {
          "base_uri": "https://localhost:8080/",
          "height": 609
        },
        "outputId": "90ad37fa-f6ea-4580-ee8a-e4dc459971c8"
      },
      "source": [
        "#Feature Scaling\n",
        "feature_scaling(df)\n",
        "\n",
        "df"
      ],
      "execution_count": null,
      "outputs": [
        {
          "output_type": "execute_result",
          "data": {
            "text/html": [
              "<div>\n",
              "<style scoped>\n",
              "    .dataframe tbody tr th:only-of-type {\n",
              "        vertical-align: middle;\n",
              "    }\n",
              "\n",
              "    .dataframe tbody tr th {\n",
              "        vertical-align: top;\n",
              "    }\n",
              "\n",
              "    .dataframe thead th {\n",
              "        text-align: right;\n",
              "    }\n",
              "</style>\n",
              "<table border=\"1\" class=\"dataframe\">\n",
              "  <thead>\n",
              "    <tr style=\"text-align: right;\">\n",
              "      <th></th>\n",
              "      <th>code_module</th>\n",
              "      <th>code_presentation</th>\n",
              "      <th>id_student</th>\n",
              "      <th>gender</th>\n",
              "      <th>region</th>\n",
              "      <th>highest_education</th>\n",
              "      <th>imd_band</th>\n",
              "      <th>age_band</th>\n",
              "      <th>num_of_prev_attempts</th>\n",
              "      <th>studied_credits</th>\n",
              "      <th>disability</th>\n",
              "      <th>final_result</th>\n",
              "    </tr>\n",
              "  </thead>\n",
              "  <tbody>\n",
              "    <tr>\n",
              "      <th>0</th>\n",
              "      <td>0.0</td>\n",
              "      <td>0.333333</td>\n",
              "      <td>-0.255925</td>\n",
              "      <td>0.0</td>\n",
              "      <td>-3.153784e-01</td>\n",
              "      <td>0.50</td>\n",
              "      <td>0.532050</td>\n",
              "      <td>1.0</td>\n",
              "      <td>0.0</td>\n",
              "      <td>0.244643</td>\n",
              "      <td>0.0</td>\n",
              "      <td>0.666667</td>\n",
              "    </tr>\n",
              "    <tr>\n",
              "      <th>1</th>\n",
              "      <td>0.0</td>\n",
              "      <td>0.333333</td>\n",
              "      <td>-0.249665</td>\n",
              "      <td>1.0</td>\n",
              "      <td>-3.987118e-01</td>\n",
              "      <td>0.50</td>\n",
              "      <td>-0.245728</td>\n",
              "      <td>0.5</td>\n",
              "      <td>0.0</td>\n",
              "      <td>-0.030166</td>\n",
              "      <td>0.0</td>\n",
              "      <td>0.666667</td>\n",
              "    </tr>\n",
              "    <tr>\n",
              "      <th>2</th>\n",
              "      <td>0.0</td>\n",
              "      <td>0.333333</td>\n",
              "      <td>-0.248977</td>\n",
              "      <td>1.0</td>\n",
              "      <td>-6.537844e-02</td>\n",
              "      <td>0.00</td>\n",
              "      <td>-0.134617</td>\n",
              "      <td>0.5</td>\n",
              "      <td>0.0</td>\n",
              "      <td>-0.030166</td>\n",
              "      <td>1.0</td>\n",
              "      <td>0.000000</td>\n",
              "    </tr>\n",
              "    <tr>\n",
              "      <th>3</th>\n",
              "      <td>0.0</td>\n",
              "      <td>0.333333</td>\n",
              "      <td>-0.248485</td>\n",
              "      <td>1.0</td>\n",
              "      <td>2.679549e-01</td>\n",
              "      <td>0.00</td>\n",
              "      <td>0.087606</td>\n",
              "      <td>0.5</td>\n",
              "      <td>0.0</td>\n",
              "      <td>-0.030166</td>\n",
              "      <td>0.0</td>\n",
              "      <td>0.666667</td>\n",
              "    </tr>\n",
              "    <tr>\n",
              "      <th>4</th>\n",
              "      <td>0.0</td>\n",
              "      <td>0.333333</td>\n",
              "      <td>-0.248014</td>\n",
              "      <td>1.0</td>\n",
              "      <td>1.795490e-02</td>\n",
              "      <td>0.25</td>\n",
              "      <td>0.087606</td>\n",
              "      <td>0.0</td>\n",
              "      <td>0.0</td>\n",
              "      <td>-0.030166</td>\n",
              "      <td>0.0</td>\n",
              "      <td>0.666667</td>\n",
              "    </tr>\n",
              "    <tr>\n",
              "      <th>...</th>\n",
              "      <td>...</td>\n",
              "      <td>...</td>\n",
              "      <td>...</td>\n",
              "      <td>...</td>\n",
              "      <td>...</td>\n",
              "      <td>...</td>\n",
              "      <td>...</td>\n",
              "      <td>...</td>\n",
              "      <td>...</td>\n",
              "      <td>...</td>\n",
              "      <td>...</td>\n",
              "      <td>...</td>\n",
              "    </tr>\n",
              "    <tr>\n",
              "      <th>32588</th>\n",
              "      <td>6.0</td>\n",
              "      <td>0.000000</td>\n",
              "      <td>0.711970</td>\n",
              "      <td>1.0</td>\n",
              "      <td>6.069219e-15</td>\n",
              "      <td>0.25</td>\n",
              "      <td>-0.356839</td>\n",
              "      <td>0.0</td>\n",
              "      <td>0.0</td>\n",
              "      <td>-0.075967</td>\n",
              "      <td>0.0</td>\n",
              "      <td>0.333333</td>\n",
              "    </tr>\n",
              "    <tr>\n",
              "      <th>32589</th>\n",
              "      <td>6.0</td>\n",
              "      <td>0.000000</td>\n",
              "      <td>0.713725</td>\n",
              "      <td>1.0</td>\n",
              "      <td>-3.153784e-01</td>\n",
              "      <td>0.25</td>\n",
              "      <td>-0.023505</td>\n",
              "      <td>0.5</td>\n",
              "      <td>0.0</td>\n",
              "      <td>-0.075967</td>\n",
              "      <td>0.0</td>\n",
              "      <td>1.000000</td>\n",
              "    </tr>\n",
              "    <tr>\n",
              "      <th>32590</th>\n",
              "      <td>6.0</td>\n",
              "      <td>0.000000</td>\n",
              "      <td>0.714629</td>\n",
              "      <td>1.0</td>\n",
              "      <td>-1.487118e-01</td>\n",
              "      <td>0.00</td>\n",
              "      <td>-0.245728</td>\n",
              "      <td>0.0</td>\n",
              "      <td>0.0</td>\n",
              "      <td>-0.075967</td>\n",
              "      <td>1.0</td>\n",
              "      <td>0.666667</td>\n",
              "    </tr>\n",
              "    <tr>\n",
              "      <th>32591</th>\n",
              "      <td>6.0</td>\n",
              "      <td>0.000000</td>\n",
              "      <td>0.726272</td>\n",
              "      <td>1.0</td>\n",
              "      <td>2.679549e-01</td>\n",
              "      <td>0.25</td>\n",
              "      <td>0.532050</td>\n",
              "      <td>0.5</td>\n",
              "      <td>0.0</td>\n",
              "      <td>-0.075967</td>\n",
              "      <td>0.0</td>\n",
              "      <td>0.000000</td>\n",
              "    </tr>\n",
              "    <tr>\n",
              "      <th>32592</th>\n",
              "      <td>6.0</td>\n",
              "      <td>0.000000</td>\n",
              "      <td>0.727812</td>\n",
              "      <td>1.0</td>\n",
              "      <td>4.346216e-01</td>\n",
              "      <td>0.50</td>\n",
              "      <td>0.087606</td>\n",
              "      <td>0.5</td>\n",
              "      <td>0.0</td>\n",
              "      <td>-0.075967</td>\n",
              "      <td>0.0</td>\n",
              "      <td>1.000000</td>\n",
              "    </tr>\n",
              "  </tbody>\n",
              "</table>\n",
              "<p>32593 rows × 12 columns</p>\n",
              "</div>"
            ],
            "text/plain": [
              "       code_module  code_presentation  ...  disability  final_result\n",
              "0              0.0           0.333333  ...         0.0      0.666667\n",
              "1              0.0           0.333333  ...         0.0      0.666667\n",
              "2              0.0           0.333333  ...         1.0      0.000000\n",
              "3              0.0           0.333333  ...         0.0      0.666667\n",
              "4              0.0           0.333333  ...         0.0      0.666667\n",
              "...            ...                ...  ...         ...           ...\n",
              "32588          6.0           0.000000  ...         0.0      0.333333\n",
              "32589          6.0           0.000000  ...         0.0      1.000000\n",
              "32590          6.0           0.000000  ...         1.0      0.666667\n",
              "32591          6.0           0.000000  ...         0.0      0.000000\n",
              "32592          6.0           0.000000  ...         0.0      1.000000\n",
              "\n",
              "[32593 rows x 12 columns]"
            ]
          },
          "metadata": {},
          "execution_count": 81
        }
      ]
    },
    {
      "cell_type": "markdown",
      "metadata": {
        "id": "MfcCf6KrffUA"
      },
      "source": [
        "**DATA VISUALIZATION**"
      ]
    },
    {
      "cell_type": "code",
      "metadata": {
        "id": "uKya1CvUfku5",
        "colab": {
          "base_uri": "https://localhost:8080/"
        },
        "outputId": "45258d12-a3fd-494b-dd94-35bd063b08c3"
      },
      "source": [
        "df.shape\n"
      ],
      "execution_count": null,
      "outputs": [
        {
          "output_type": "execute_result",
          "data": {
            "text/plain": [
              "(32593, 12)"
            ]
          },
          "metadata": {},
          "execution_count": 82
        }
      ]
    },
    {
      "cell_type": "code",
      "metadata": {
        "id": "GkR4xp8mfpGY",
        "colab": {
          "base_uri": "https://localhost:8080/"
        },
        "outputId": "e7f8a71e-e3c2-4a3d-94f1-e9a568622cbe"
      },
      "source": [
        "df.dropna().shape"
      ],
      "execution_count": null,
      "outputs": [
        {
          "output_type": "execute_result",
          "data": {
            "text/plain": [
              "(32593, 12)"
            ]
          },
          "metadata": {},
          "execution_count": 83
        }
      ]
    },
    {
      "cell_type": "code",
      "metadata": {
        "id": "uEuakDCbfvsY",
        "colab": {
          "base_uri": "https://localhost:8080/"
        },
        "outputId": "ce5c369f-01c6-4013-edb3-cba82ba4418f"
      },
      "source": [
        "df.columns\n"
      ],
      "execution_count": null,
      "outputs": [
        {
          "output_type": "execute_result",
          "data": {
            "text/plain": [
              "Index(['code_module', 'code_presentation', 'id_student', 'gender', 'region',\n",
              "       'highest_education', 'imd_band', 'age_band', 'num_of_prev_attempts',\n",
              "       'studied_credits', 'disability', 'final_result'],\n",
              "      dtype='object')"
            ]
          },
          "metadata": {},
          "execution_count": 84
        }
      ]
    },
    {
      "cell_type": "code",
      "metadata": {
        "id": "Wsts_Gv3fxt6"
      },
      "source": [
        "features = ['code_module', 'code_presentation', 'id_student', 'gender', 'region',\n",
        "       'highest_education', 'imd_band', 'age_band', 'num_of_prev_attempts',\n",
        "       'studied_credits', 'disability', 'final_result']\n"
      ],
      "execution_count": null,
      "outputs": []
    },
    {
      "cell_type": "code",
      "metadata": {
        "id": "yRoVZMOzf9i2",
        "colab": {
          "base_uri": "https://localhost:8080/",
          "height": 573
        },
        "outputId": "24b8da1b-6293-4b68-f256-d2c168f1ed0c"
      },
      "source": [
        "def plot_histogram(x):\n",
        "    plt.hist(x, color='blue', alpha=0.6)\n",
        "    plt.title(\"Histogram of '{var_name}'\".format(var_name=x.name))\n",
        "    plt.xlabel(\"Value\")\n",
        "    plt.ylabel(\"Frequency\")\n",
        "    plt.show()\n",
        "\n",
        "plot_histogram(dfv['age_band'])\n",
        "plot_histogram(dfv['code_module'])\n",
        "\n"
      ],
      "execution_count": null,
      "outputs": [
        {
          "output_type": "display_data",
          "data": {
            "image/png": "[encoded data removed]",
            "text/plain": [
              "<Figure size 432x288 with 1 Axes>"
            ]
          },
          "metadata": {
            "needs_background": "light"
          }
        },
        {
          "output_type": "display_data",
          "data": {
            "image/png": "[encoded data removed]",
            "text/plain": [
              "<Figure size 432x288 with 1 Axes>"
            ]
          },
          "metadata": {
            "needs_background": "light"
          }
        }
      ]
    },
    {
      "cell_type": "code",
      "metadata": {
        "colab": {
          "base_uri": "https://localhost:8080/",
          "height": 674
        },
        "id": "w86ihLlXUJL6",
        "outputId": "6e1a8c15-6485-4959-8ebb-28d053b65dbb"
      },
      "source": [
        "# see correlation between variables through a correlation heatmap\n",
        "corr = df.corr()\n",
        "plt.figure(figsize=(9,9))\n",
        "sns.heatmap(corr, annot=True, cmap=\"Reds\")\n",
        "plt.title('Correlation Heatmap', fontsize=12)"
      ],
      "execution_count": 125,
      "outputs": [
        {
          "output_type": "execute_result",
          "data": {
            "text/plain": [
              "Text(0.5, 1.0, 'Correlation Heatmap')"
            ]
          },
          "metadata": {},
          "execution_count": 125
        },
        {
          "output_type": "display_data",
          "data": {
            "image/png": "[encoded data removed]",
            "text/plain": [
              "<Figure size 648x648 with 2 Axes>"
            ]
          },
          "metadata": {
            "needs_background": "light"
          }
        }
      ]
    },
    {
      "cell_type": "code",
      "metadata": {
        "colab": {
          "base_uri": "https://localhost:8080/"
        },
        "id": "nCzqpf65baqL",
        "outputId": "b37b4802-f85e-4209-ffda-1488e4d9df2b"
      },
      "source": [
        "print(dfv['highest_education'].value_counts().sort_values(ascending=False))\n"
      ],
      "execution_count": null,
      "outputs": [
        {
          "output_type": "stream",
          "name": "stdout",
          "text": [
            "A Level or Equivalent          14045\n",
            "Lower Than A Level             13158\n",
            "HE Qualification                4730\n",
            "No Formal quals                  347\n",
            "Post Graduate Qualification      313\n",
            "Name: highest_education, dtype: int64\n"
          ]
        }
      ]
    },
    {
      "cell_type": "code",
      "metadata": {
        "colab": {
          "base_uri": "https://localhost:8080/",
          "height": 617
        },
        "id": "mLoZe-x4Xc-I",
        "outputId": "170fd12b-29df-475a-aec1-9ec9119a0839"
      },
      "source": [
        "#highest education status\n",
        "perc = (lambda col: col/col.sum())\n",
        "education_tab1 = pd.crosstab(index=dfv.final_result, columns=dfv.highest_education)\n",
        "education_tab = np.log(education_tab1)\n",
        "#education_tab = education_tab.apply(perc).reindex(index)\n",
        "plt.figure()\n",
        "education_tab.plot.bar(colormap=\"PiYG_r\", fontsize=16, figsize=(8,8))\n",
        "plt.title('Student final result by Highest Education', fontsize=20)\n",
        "plt.ylabel('Student highest education status', fontsize=16)\n",
        "plt.xlabel('Final result', fontsize=16)\n",
        "plt.show()"
      ],
      "execution_count": 120,
      "outputs": [
        {
          "output_type": "display_data",
          "data": {
            "text/plain": [
              "<Figure size 432x288 with 0 Axes>"
            ]
          },
          "metadata": {}
        },
        {
          "output_type": "display_data",
          "data": {
            "image/png": "[encoded data removed]",
            "text/plain": [
              "<Figure size 576x576 with 1 Axes>"
            ]
          },
          "metadata": {
            "needs_background": "light"
          }
        }
      ]
    },
    {
      "cell_type": "code",
      "metadata": {
        "colab": {
          "base_uri": "https://localhost:8080/"
        },
        "id": "45cpZviWbdCc",
        "outputId": "dcfb7116-c75d-46ef-bb85-273a2060e488"
      },
      "source": [
        "print(dfv['age_band'].value_counts().sort_values(ascending=False))\n"
      ],
      "execution_count": null,
      "outputs": [
        {
          "output_type": "stream",
          "name": "stdout",
          "text": [
            "0-35     22944\n",
            "35-55     9433\n",
            "55<=       216\n",
            "Name: age_band, dtype: int64\n"
          ]
        }
      ]
    },
    {
      "cell_type": "code",
      "metadata": {
        "colab": {
          "base_uri": "https://localhost:8080/",
          "height": 617
        },
        "id": "PlnHXFqcZoqA",
        "outputId": "3ab12bfa-2af8-4955-abf8-b98ca6d04082"
      },
      "source": [
        "#Age\n",
        "perc = (lambda col: col/col.sum())\n",
        "#index = [0,1]\n",
        "education_tab1 = pd.crosstab(index=dfv.final_result, columns=dfv.age_band)\n",
        "education_tab = np.log(education_tab1)\n",
        "#education_perc = education_tab.apply(perc).reindex(index)\n",
        "plt.figure()\n",
        "education_tab.plot.bar(colormap=\"PiYG_r\", fontsize=16, figsize=(8,8))\n",
        "plt.title('Student final result by Age', fontsize=20)\n",
        "plt.ylabel('Age', fontsize=16)\n",
        "plt.xlabel('Final result', fontsize=16)\n",
        "plt.show()"
      ],
      "execution_count": null,
      "outputs": [
        {
          "output_type": "display_data",
          "data": {
            "text/plain": [
              "<Figure size 432x288 with 0 Axes>"
            ]
          },
          "metadata": {}
        },
        {
          "output_type": "display_data",
          "data": {
            "image/png": "[encoded data removed]",
            "text/plain": [
              "<Figure size 576x576 with 1 Axes>"
            ]
          },
          "metadata": {
            "needs_background": "light"
          }
        }
      ]
    },
    {
      "cell_type": "code",
      "metadata": {
        "colab": {
          "base_uri": "https://localhost:8080/"
        },
        "id": "5vZ_5X84Z0hk",
        "outputId": "4f331b67-7aeb-49eb-ae06-2b4deca13bf4"
      },
      "source": [
        "#The distribution of students\n",
        "print(dfv['region'].value_counts().sort_values(ascending=False))\n"
      ],
      "execution_count": null,
      "outputs": [
        {
          "output_type": "stream",
          "name": "stdout",
          "text": [
            "Scotland                3446\n",
            "East Anglian Region     3340\n",
            "London Region           3216\n",
            "South Region            3092\n",
            "North Western Region    2906\n",
            "West Midlands Region    2582\n",
            "South West Region       2436\n",
            "East Midlands Region    2365\n",
            "South East Region       2111\n",
            "Wales                   2086\n",
            "Yorkshire Region        2006\n",
            "North Region            1823\n",
            "Ireland                 1184\n",
            "Name: region, dtype: int64\n"
          ]
        }
      ]
    },
    {
      "cell_type": "code",
      "metadata": {
        "id": "PbyLiVqzvHCc"
      },
      "source": [
        ""
      ],
      "execution_count": null,
      "outputs": []
    },
    {
      "cell_type": "code",
      "metadata": {
        "colab": {
          "base_uri": "https://localhost:8080/"
        },
        "id": "RVPjNy7KbQT3",
        "outputId": "ef5c0131-e480-4e19-e0c3-d01cda019e61"
      },
      "source": [
        "print(dfv['code_module'].value_counts().sort_values(ascending=False))\n"
      ],
      "execution_count": null,
      "outputs": [
        {
          "output_type": "stream",
          "name": "stdout",
          "text": [
            "BBB    7909\n",
            "FFF    7762\n",
            "DDD    6272\n",
            "CCC    4434\n",
            "EEE    2934\n",
            "GGG    2534\n",
            "AAA     748\n",
            "Name: code_module, dtype: int64\n"
          ]
        }
      ]
    },
    {
      "cell_type": "code",
      "metadata": {
        "colab": {
          "base_uri": "https://localhost:8080/",
          "height": 617
        },
        "id": "uEp04sjQbvoF",
        "outputId": "fc9686ad-4289-439e-a993-1c4fedc3d356"
      },
      "source": [
        "#perc = (lambda col: col/col.sum())\n",
        "module_tab1 = pd.crosstab(index=dfv.final_result, columns=dfv.code_module)\n",
        "module_tab = np.log(module_tab1)\n",
        "plt.figure()\n",
        "module_tab.plot.bar(colormap=\"PiYG_r\", fontsize=16, figsize=(8,8))\n",
        "plt.title('Student final result by Module', fontsize=20)\n",
        "plt.ylabel('Code module', fontsize=16)\n",
        "plt.xlabel('Final result', fontsize=16)\n",
        "plt.show()"
      ],
      "execution_count": 126,
      "outputs": [
        {
          "output_type": "display_data",
          "data": {
            "text/plain": [
              "<Figure size 432x288 with 0 Axes>"
            ]
          },
          "metadata": {}
        },
        {
          "output_type": "display_data",
          "data": {
            "image/png": "[encoded data removed]",
            "text/plain": [
              "<Figure size 576x576 with 1 Axes>"
            ]
          },
          "metadata": {
            "needs_background": "light"
          }
        }
      ]
    },
    {
      "cell_type": "markdown",
      "metadata": {
        "id": "4imVORFUcvU4"
      },
      "source": [
        "**GENERAL CONCLUSION**\n",
        "1. The A Level or Equivalent & Lower Than A Level are targeted users: High school, Secondary school and University students.\n",
        "2. There is a strong relationship between student highest education and their final result: The A Level or Equivalent has higher rate of Distinction and Pass while The Lower than A level has higher rate of Fail.\n",
        "3. The most popular users are 0-35 years old.\n",
        "4. Regions of students are distributed quite similar.\n",
        "5. Module BBB and FFF are the most favorite/ popular courses.\n"
      ]
    }
  ]
}